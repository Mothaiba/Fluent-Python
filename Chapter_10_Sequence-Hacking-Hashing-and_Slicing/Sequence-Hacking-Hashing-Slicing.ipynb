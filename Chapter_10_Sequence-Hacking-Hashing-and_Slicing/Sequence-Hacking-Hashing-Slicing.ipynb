{
 "cells": [
  {
   "cell_type": "markdown",
   "metadata": {},
   "source": [
    "This chapter's examples will be conducted with a new Vector class, which can takes on an arbitraliry number of dimensions."
   ]
  },
  {
   "cell_type": "markdown",
   "metadata": {},
   "source": [
    "Look at the comments in the code for detailed explanation of changes."
   ]
  },
  {
   "cell_type": "code",
   "execution_count": 4,
   "metadata": {},
   "outputs": [],
   "source": [
    "import math\n",
    "from array import array\n",
    "import reprlib\n",
    "import numbers\n",
    "\n",
    "class Vector:\n",
    "    \n",
    "    typecode = 'd'\n",
    "    \n",
    "    # the constructor takes input as a sequence instead of x, y\n",
    "    def __init__(self, components):\n",
    "        self._components = array(self.typecode, components)\n",
    "    \n",
    "    @classmethod\n",
    "    def frombytes(cls, octets):\n",
    "        typecode = chr(octets[0])\n",
    "        memv = memoryview(octets[1:]).cast(typecode)\n",
    "        return cls(memv) # return memv without unpacking. This is because of the change in the constructor.\n",
    "    \n",
    "    def __iter__(self):\n",
    "        # return an item created by iter()\n",
    "        return (iter(self._components))\n",
    "    \n",
    "    def __eq__(self, other):\n",
    "        return tuple(self) == tuple(other)\n",
    "    \n",
    "    def __repr__(self):\n",
    "        # user reprlib.repr to make the resulting string truncated.\n",
    "        class_name = type(self).__name__\n",
    "        components = reprlib.repr(self._components)\n",
    "        components = components[components.find('['):-1]\n",
    "        return '{}({})'.format(class_name, components)\n",
    "    \n",
    "    def __str__(self):\n",
    "        return str(tuple(self))\n",
    "    \n",
    "    def __abs__(self):\n",
    "        # explicit computation of the length of vector.\n",
    "        return math.sqrt(sum(x * x for x in self._components))\n",
    "    \n",
    "    def __bool__(self):\n",
    "        return bool(abs(self))\n",
    "    \n",
    "    def __bytes__(self):\n",
    "        return (bytes([ord(self.typecode)])\n",
    "                + bytes(self.typecode, self._components))\n",
    "    \n",
    "    def __len__(self):\n",
    "        return len(self._components)\n",
    "    \n",
    "    # this method makes the objects sliceable.\n",
    "    # if inputted index is a number, return a value.\n",
    "    # if inputted index is a slice, return a vector.\n",
    "    def __getitem__(self, index):\n",
    "        cls = type(self)\n",
    "        if isinstance(index, numbers.Integral):\n",
    "            return self._components[index]\n",
    "        elif isinstance(index, slice):\n",
    "            return cls(self._components[index])\n",
    "        else:\n",
    "            error_msg = '{cls.__name__} indices must be integers.'\n",
    "            raise TypeError(msg.format(cls=cls))\n",
    "    \n",
    "    # this method makes the objects able to be accessed\n",
    "    # by convenient calls, e.g. vector.x, vector.y .\n",
    "    short_names = 'xyzt'\n",
    "    def __getattr__(self, name):\n",
    "        cls = type(self)\n",
    "        if len(name) == 1:\n",
    "            pos = cls.short_names.find(name)\n",
    "            if 0 <= pos and pos < len(cls.short_names):\n",
    "                return self._components[pos]\n",
    "        error_msg = '{.__name__!r} object has no attribute {!r}'\n",
    "        raise AttributeError(error_msg.format(cls, name))\n",
    "    \n",
    "    # whenever __getattr__ is defined, __setattr__ should also\n",
    "    # be defined to make things consistent.\n",
    "    # this method helps prevent modifying vector's values.\n",
    "    def __setattr__(self, name, value):\n",
    "        cls = type(self)\n",
    "        if len(name) == 1 and name in cls.short_names:\n",
    "            error = 'readonly attribute {attr_name!r}'\n",
    "            msg = error.format(attr_name=name)\n",
    "            raise AttributeError(msg)\n",
    "        super().__setattr__(name, value)"
   ]
  },
  {
   "cell_type": "code",
   "execution_count": 5,
   "metadata": {},
   "outputs": [
    {
     "data": {
      "text/plain": [
       "4.0"
      ]
     },
     "execution_count": 5,
     "metadata": {},
     "output_type": "execute_result"
    }
   ],
   "source": [
    "v = Vector((2, 3, 4))\n",
    "v[2]"
   ]
  },
  {
   "cell_type": "markdown",
   "metadata": {},
   "source": [
    "### Protocols and Duck Typing"
   ]
  },
  {
   "cell_type": "markdown",
   "metadata": {},
   "source": [
    "Duck Typing means as long as an object behaves like a duck in all aspects that we need a duck to behave, we consider it a duck without knowing if it is really a duct or not."
   ]
  },
  {
   "cell_type": "markdown",
   "metadata": {},
   "source": [
    "A protocol is an informal interface, defined only in documentation and not in code.\n",
    "<br>\n",
    "For example, a protocol of a sequence is to have \\_\\_len\\_\\_ and \\_\\_getitem\\_\\_ implemented."
   ]
  },
  {
   "cell_type": "markdown",
   "metadata": {},
   "source": [
    "### Dynamic attribute access"
   ]
  },
  {
   "cell_type": "markdown",
   "metadata": {},
   "source": [
    "Generally, when an object's attribute is called, if Python cannot found that object attribute, it find that attribute of the class, if still not found, it find that attribute of the super class, if still not found, it queries the \\_\\_getattr\\_\\_ method."
   ]
  },
  {
   "cell_type": "markdown",
   "metadata": {},
   "source": [
    "Look at the code above to see the implementation of attribute getter and setter for this Vector class."
   ]
  },
  {
   "cell_type": "code",
   "execution_count": null,
   "metadata": {},
   "outputs": [],
   "source": []
  }
 ],
 "metadata": {
  "kernelspec": {
   "display_name": "Python 3",
   "language": "python",
   "name": "python3"
  },
  "language_info": {
   "codemirror_mode": {
    "name": "ipython",
    "version": 3
   },
   "file_extension": ".py",
   "mimetype": "text/x-python",
   "name": "python",
   "nbconvert_exporter": "python",
   "pygments_lexer": "ipython3",
   "version": "3.7.7"
  }
 },
 "nbformat": 4,
 "nbformat_minor": 4
}
