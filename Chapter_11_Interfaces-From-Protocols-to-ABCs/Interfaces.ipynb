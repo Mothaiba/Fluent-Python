{
 "cells": [
  {
   "cell_type": "markdown",
   "metadata": {},
   "source": [
    "Normally, a Python-user perceive 'X protocol', 'X-like object' and 'X interface' the same. They all refer to the fact that the object can provide some roles of the X type."
   ]
  },
  {
   "cell_type": "markdown",
   "metadata": {},
   "source": [
    "### Python sequence"
   ]
  },
  {
   "cell_type": "markdown",
   "metadata": {},
   "source": [
    "By only defining the \\_\\_getitem\\_\\_ method, the object can support access, iteration and in"
   ]
  },
  {
   "cell_type": "markdown",
   "metadata": {},
   "source": [
    "Because using sequence is very common, Python tries its best to make it as convenient as possible."
   ]
  },
  {
   "cell_type": "code",
   "execution_count": 1,
   "metadata": {},
   "outputs": [
    {
     "name": "stdout",
     "output_type": "stream",
     "text": [
      "f[1]: 7\n",
      "7 in f is True\n"
     ]
    }
   ],
   "source": [
    "class Foo:\n",
    "    def __getitem__(self, pos):\n",
    "        return range(5, 10, 2)[pos]\n",
    "    \n",
    "f = Foo()\n",
    "print('f[1]:', f[1])\n",
    "print('7 in f is', 7 in f)"
   ]
  },
  {
   "cell_type": "markdown",
   "metadata": {},
   "source": [
    "### Monkey-patching "
   ]
  },
  {
   "cell_type": "markdown",
   "metadata": {},
   "source": [
    "To make our class mutable, we have to implement the \\_\\_setitem\\_\\_ method."
   ]
  },
  {
   "cell_type": "markdown",
   "metadata": {},
   "source": [
    "We can implement a protocal at runtime:"
   ]
  },
  {
   "cell_type": "code",
   "execution_count": null,
   "metadata": {},
   "outputs": [],
   "source": [
    "def set_card(deck, position, card): \n",
    "    deck._cards[position] = card \n",
    "FrenchDeck.__setitem__ = set_card "
   ]
  },
  {
   "cell_type": "markdown",
   "metadata": {},
   "source": [
    "This is called Monkey-patching, i.e. changing a class or module at runtime without modifying the source code."
   ]
  },
  {
   "cell_type": "markdown",
   "metadata": {},
   "source": [
    "### Alex Martelli's advice"
   ]
  },
  {
   "cell_type": "markdown",
   "metadata": {},
   "source": [
    "Don't define your own ABCs or metaclasses."
   ]
  },
  {
   "cell_type": "markdown",
   "metadata": {},
   "source": [
    "Duck typing and type-check go against each other."
   ]
  },
  {
   "cell_type": "markdown",
   "metadata": {},
   "source": [
    "Goose-typing: the one that support isinstance()."
   ]
  },
  {
   "cell_type": "markdown",
   "metadata": {},
   "source": [
    "With duck-typing, to be sure if the input value really quarks like a duck, we may:\n",
    "- make a copy by the copy constructor of the intended type. E.g. suppose we want the input to quark like a list, we code: input = list(input). This will throw an error if the input cannot quark like a list."
   ]
  },
  {
   "cell_type": "markdown",
   "metadata": {},
   "source": [
    "### Subclassing an ABC (to know how it works)"
   ]
  },
  {
   "cell_type": "markdown",
   "metadata": {},
   "source": [
    "By subclassing a type, we have to implement all the abstract method of that type."
   ]
  },
  {
   "cell_type": "markdown",
   "metadata": {},
   "source": [
    "Note that not all abstract methods are dunders. E.g. for MutableSequence, the insert() is an abstract method."
   ]
  },
  {
   "cell_type": "markdown",
   "metadata": {},
   "source": [
    "To check if an object is callable, we use the function callable(). However, to check if it is hashable, we ise isinstance(obj, abc.Hashable)."
   ]
  },
  {
   "cell_type": "code",
   "execution_count": 4,
   "metadata": {},
   "outputs": [
    {
     "name": "stdout",
     "output_type": "stream",
     "text": [
      "x is callable? False\n",
      "x register Hashable? True\n"
     ]
    }
   ],
   "source": [
    "from collections import abc\n",
    "\n",
    "x = 100\n",
    "print('x is callable?', callable(x))\n",
    "print('x register Hashable?', isinstance(x, abc.Hashable))"
   ]
  },
  {
   "cell_type": "markdown",
   "metadata": {},
   "source": [
    "### The number tower"
   ]
  },
  {
   "cell_type": "markdown",
   "metadata": {},
   "source": [
    "The ABCs from numbers are one-by-one inherited."
   ]
  },
  {
   "cell_type": "markdown",
   "metadata": {},
   "source": [
    "Number <- Complex <- Real <- Retional <- Integral"
   ]
  },
  {
   "cell_type": "markdown",
   "metadata": {},
   "source": [
    "### Defining and Using an ABC"
   ]
  },
  {
   "cell_type": "markdown",
   "metadata": {},
   "source": [
    "An abstract method usually has an empty body, except for the docstring.\n",
    "\n",
    "However, an abstract method may also have a real body. When you subclass it, you are still required to re-implement the body, yet, you can call super() to invoke the original implementation from the abstract class."
   ]
  },
  {
   "cell_type": "markdown",
   "metadata": {},
   "source": [
    "To specify an abstract method, we use the decorator @abs.abstractmethod.\n",
    "\n",
    "Note that if you stack decorators, the @abc.abstractmethod should be the inner-most decorator."
   ]
  },
  {
   "cell_type": "code",
   "execution_count": null,
   "metadata": {},
   "outputs": [],
   "source": []
  }
 ],
 "metadata": {
  "kernelspec": {
   "display_name": "Python 3",
   "language": "python",
   "name": "python3"
  },
  "language_info": {
   "codemirror_mode": {
    "name": "ipython",
    "version": 3
   },
   "file_extension": ".py",
   "mimetype": "text/x-python",
   "name": "python",
   "nbconvert_exporter": "python",
   "pygments_lexer": "ipython3",
   "version": "3.7.7"
  }
 },
 "nbformat": 4,
 "nbformat_minor": 4
}
