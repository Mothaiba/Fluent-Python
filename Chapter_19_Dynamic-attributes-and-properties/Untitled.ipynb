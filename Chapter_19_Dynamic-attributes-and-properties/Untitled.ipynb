{
 "cells": [
  {
   "cell_type": "markdown",
   "metadata": {},
   "source": [
    "Meta-programming means a program that operates on another program (e.g. debugger, interpreter)."
   ]
  },
  {
   "cell_type": "markdown",
   "metadata": {},
   "source": [
    "The real constructor is \\_\\_new__. The \\_\\_init__ is really an initializer. \n",
    "<br>\n",
    "We often say \\_\\_init__ is the constructor just because we adopted jargon from other languages."
   ]
  },
  {
   "cell_type": "markdown",
   "metadata": {},
   "source": [
    "The \\_\\_new__ can actually return an object of another class. In that case, \\_\\_init__ will not be called."
   ]
  },
  {
   "cell_type": "markdown",
   "metadata": {},
   "source": [
    "A Python object saves all of its attribute in its \\_\\_dict__. Thus, the convenient way to add many attributes to an object is .\\_\\_dict__.update(**kwargs)."
   ]
  },
  {
   "cell_type": "markdown",
   "metadata": {},
   "source": [
    "The globals() function returns a dictionary containing the variables defined in the global namespace."
   ]
  },
  {
   "cell_type": "code",
   "execution_count": null,
   "metadata": {},
   "outputs": [],
   "source": []
  }
 ],
 "metadata": {
  "kernelspec": {
   "display_name": "Python 3",
   "language": "python",
   "name": "python3"
  },
  "language_info": {
   "codemirror_mode": {
    "name": "ipython",
    "version": 3
   },
   "file_extension": ".py",
   "mimetype": "text/x-python",
   "name": "python",
   "nbconvert_exporter": "python",
   "pygments_lexer": "ipython3",
   "version": "3.7.7"
  }
 },
 "nbformat": 4,
 "nbformat_minor": 4
}
