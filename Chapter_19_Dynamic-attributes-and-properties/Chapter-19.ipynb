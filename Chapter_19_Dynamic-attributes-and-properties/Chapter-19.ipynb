{
 "cells": [
  {
   "cell_type": "markdown",
   "metadata": {},
   "source": [
    "Meta-programming means a program that operates on another program (e.g. debugger, interpreter)."
   ]
  },
  {
   "cell_type": "markdown",
   "metadata": {},
   "source": [
    "The real constructor is \\_\\_new__. The \\_\\_init__ is really an initializer. \n",
    "<br>\n",
    "We often say \\_\\_init__ is the constructor just because we adopted jargon from other languages."
   ]
  },
  {
   "cell_type": "markdown",
   "metadata": {},
   "source": [
    "The \\_\\_new__ can actually return an object of another class. In that case, \\_\\_init__ will not be called."
   ]
  },
  {
   "cell_type": "markdown",
   "metadata": {},
   "source": [
    "A Python object saves all of its attribute in its \\_\\_dict__. Thus, the convenient way to add many attributes to an object is .\\_\\_dict__.update(**kwargs)."
   ]
  },
  {
   "cell_type": "markdown",
   "metadata": {},
   "source": [
    "The globals() function returns a dictionary containing the variables defined in the global namespace."
   ]
  },
  {
   "cell_type": "code",
   "execution_count": 15,
   "metadata": {},
   "outputs": [
    {
     "name": "stdout",
     "output_type": "stream",
     "text": [
      "bar.x: 10\n",
      "bar.x 1000\n",
      "deleting x\n"
     ]
    }
   ],
   "source": [
    "class Bar:\n",
    "    def __init__(self, x):\n",
    "        self.x = x\n",
    "        \n",
    "    @property\n",
    "    def x(self):\n",
    "        return self.__x\n",
    "    \n",
    "    @x.setter\n",
    "    def x(self, val):\n",
    "        if val > 0:\n",
    "            self.__x = val\n",
    "        else:\n",
    "            raise Exception\n",
    "    @x.deleter\n",
    "    def x(self):\n",
    "        print('deleting x')\n",
    "        del self.__x\n",
    "\n",
    "bar = Bar(10)\n",
    "print('bar.x:', bar.x)\n",
    "bar.x = 1000\n",
    "print('bar.x', bar.x)\n",
    "del bar.x"
   ]
  },
  {
   "cell_type": "code",
   "execution_count": 8,
   "metadata": {},
   "outputs": [
    {
     "ename": "Exception",
     "evalue": "",
     "output_type": "error",
     "traceback": [
      "\u001b[0;31m---------------------------------------------------------------------------\u001b[0m",
      "\u001b[0;31mException\u001b[0m                                 Traceback (most recent call last)",
      "\u001b[0;32m<ipython-input-8-2f851bdf3081>\u001b[0m in \u001b[0;36m<module>\u001b[0;34m\u001b[0m\n\u001b[0;32m----> 1\u001b[0;31m \u001b[0mbar\u001b[0m\u001b[0;34m.\u001b[0m\u001b[0mx\u001b[0m \u001b[0;34m=\u001b[0m \u001b[0;34m-\u001b[0m\u001b[0;36m2\u001b[0m\u001b[0;34m\u001b[0m\u001b[0;34m\u001b[0m\u001b[0m\n\u001b[0m",
      "\u001b[0;32m<ipython-input-6-56d3d32a3dc7>\u001b[0m in \u001b[0;36mx\u001b[0;34m(self, val)\u001b[0m\n\u001b[1;32m     12\u001b[0m             \u001b[0mself\u001b[0m\u001b[0;34m.\u001b[0m\u001b[0m__x\u001b[0m \u001b[0;34m=\u001b[0m \u001b[0mval\u001b[0m\u001b[0;34m\u001b[0m\u001b[0;34m\u001b[0m\u001b[0m\n\u001b[1;32m     13\u001b[0m         \u001b[0;32melse\u001b[0m\u001b[0;34m:\u001b[0m\u001b[0;34m\u001b[0m\u001b[0;34m\u001b[0m\u001b[0m\n\u001b[0;32m---> 14\u001b[0;31m             \u001b[0;32mraise\u001b[0m \u001b[0mException\u001b[0m\u001b[0;34m\u001b[0m\u001b[0;34m\u001b[0m\u001b[0m\n\u001b[0m\u001b[1;32m     15\u001b[0m \u001b[0;34m\u001b[0m\u001b[0m\n\u001b[1;32m     16\u001b[0m \u001b[0mbar\u001b[0m \u001b[0;34m=\u001b[0m \u001b[0mBar\u001b[0m\u001b[0;34m(\u001b[0m\u001b[0;36m10\u001b[0m\u001b[0;34m)\u001b[0m\u001b[0;34m\u001b[0m\u001b[0;34m\u001b[0m\u001b[0m\n",
      "\u001b[0;31mException\u001b[0m: "
     ]
    }
   ],
   "source": [
    "bar.x = -2"
   ]
  },
  {
   "cell_type": "code",
   "execution_count": 11,
   "metadata": {},
   "outputs": [
    {
     "name": "stdout",
     "output_type": "stream",
     "text": [
      "bar.y: 1\n"
     ]
    }
   ],
   "source": [
    "bar.__dict__.update({'y' : 1, 'z' : 2})\n",
    "print('bar.y:', bar.y)"
   ]
  },
  {
   "cell_type": "markdown",
   "metadata": {},
   "source": [
    "To have a getter-property, we use the @property decorator.\n",
    "<br>\n",
    "To have a setter-property, we use @attribute_name.setter decorator.\n",
    "<br>\n",
    "To have a deleter-property, we use @attribute_name.deleter decorator."
   ]
  },
  {
   "cell_type": "markdown",
   "metadata": {},
   "source": [
    "The order of priority: property > object attribute > class attribute."
   ]
  },
  {
   "cell_type": "markdown",
   "metadata": {},
   "source": [
    "When there is an attempt to retrieve a named attribute, \\_\\_getattribute__(self, name) is called. Only after this method returns AttributeError, the \\_\\_getattr__ is then called."
   ]
  },
  {
   "cell_type": "code",
   "execution_count": 24,
   "metadata": {},
   "outputs": [
    {
     "name": "stdout",
     "output_type": "stream",
     "text": [
      "call __gettattribute__\n",
      "bar.abc: 1\n",
      "call __gettattribute__\n",
      "call __getattr__\n",
      "bar.xyz: 0\n"
     ]
    }
   ],
   "source": [
    "def getattribute(instance, name):\n",
    "    print('call __gettattribute__')\n",
    "    if name == 'abc':\n",
    "        return 1\n",
    "    raise AttributeError\n",
    "Bar.__getattribute__ = getattribute\n",
    "\n",
    "def getattr_func(instance, name):\n",
    "    print('call __getattr__')\n",
    "    return 0\n",
    "Bar.__getattr__ = getattr_func\n",
    "\n",
    "print('bar.abc:', bar.abc)\n",
    "print('bar.xyz:', bar.xyz)"
   ]
  },
  {
   "cell_type": "code",
   "execution_count": null,
   "metadata": {
    "scrolled": true
   },
   "outputs": [],
   "source": [
    "# The classic property assignment:\n",
    "var = property(get_func=None, set_func=None, del_func=None, doc=None)"
   ]
  },
  {
   "cell_type": "code",
   "execution_count": null,
   "metadata": {},
   "outputs": [],
   "source": []
  }
 ],
 "metadata": {
  "kernelspec": {
   "display_name": "Python 3",
   "language": "python",
   "name": "python3"
  },
  "language_info": {
   "codemirror_mode": {
    "name": "ipython",
    "version": 3
   },
   "file_extension": ".py",
   "mimetype": "text/x-python",
   "name": "python",
   "nbconvert_exporter": "python",
   "pygments_lexer": "ipython3",
   "version": "3.7.7"
  }
 },
 "nbformat": 4,
 "nbformat_minor": 4
}
