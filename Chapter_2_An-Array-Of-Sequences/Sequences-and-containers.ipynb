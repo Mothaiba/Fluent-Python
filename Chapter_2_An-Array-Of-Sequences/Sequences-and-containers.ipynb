{
 "cells": [
  {
   "cell_type": "markdown",
   "metadata": {},
   "source": [
    "## II. Data Structures"
   ]
  },
  {
   "cell_type": "markdown",
   "metadata": {},
   "source": [
    "### List, Tuple, Generator"
   ]
  },
  {
   "cell_type": "code",
   "execution_count": 10,
   "metadata": {},
   "outputs": [
    {
     "name": "stdout",
     "output_type": "stream",
     "text": [
      "li:  [1, 'a', (1, 1)]\n",
      "tup:  (1, 'a', (1, 1))\n"
     ]
    }
   ],
   "source": [
    "# list, tuple, deque are containers, which store reference to object, thus, they can contain different element-types.\n",
    "\n",
    "li = [1, 'a', (1, 1)]\n",
    "print('li: ', li)\n",
    "\n",
    "tup = (1, 'a', (1, 1))\n",
    "print('tup: ', tup)"
   ]
  },
  {
   "cell_type": "code",
   "execution_count": 3,
   "metadata": {},
   "outputs": [
    {
     "name": "stdout",
     "output_type": "stream",
     "text": [
      "[0, 1, 2, 3, 4, 5, 6, 7, 8, 9]\n"
     ]
    }
   ],
   "source": [
    "# list comprehensive\n",
    "arr = [x for x in range(10)]\n",
    "print(arr)"
   ]
  },
  {
   "cell_type": "code",
   "execution_count": 8,
   "metadata": {},
   "outputs": [
    {
     "name": "stdout",
     "output_type": "stream",
     "text": [
      "li:  [0, 1, 0, 1]\n",
      "st:  abc\n"
     ]
    }
   ],
   "source": [
    "def foo(inp):\n",
    "    inp += inp\n",
    "\n",
    "li = [0, 1]\n",
    "foo(li)\n",
    "print('li: ', li) # list is mutable\n",
    "\n",
    "st = 'abc'\n",
    "foo(st)\n",
    "print('st: ', st) # string is immutable"
   ]
  },
  {
   "cell_type": "code",
   "execution_count": 12,
   "metadata": {},
   "outputs": [
    {
     "name": "stdout",
     "output_type": "stream",
     "text": [
      "0\n",
      "1\n",
      "4\n",
      "9\n",
      "16\n",
      "25\n",
      "36\n",
      "49\n",
      "64\n",
      "81\n"
     ]
    }
   ],
   "source": [
    "# generator expression. This save memory by generating elements one-by-one.\n",
    "for v in (x*x for x in range(10)):\n",
    "    print(v)"
   ]
  },
  {
   "cell_type": "code",
   "execution_count": 14,
   "metadata": {},
   "outputs": [
    {
     "data": {
      "text/plain": [
       "[1, 4, 9, 16]"
      ]
     },
     "execution_count": 14,
     "metadata": {},
     "output_type": "execute_result"
    }
   ],
   "source": [
    "# map function: to apply a function on each element of a sequence.\n",
    "arr = [1, 2, 3, 4]\n",
    "list(map(lambda x: x*x, arr))"
   ]
  },
  {
   "cell_type": "code",
   "execution_count": 17,
   "metadata": {},
   "outputs": [
    {
     "data": {
      "text/plain": [
       "[4, 5, 6]"
      ]
     },
     "execution_count": 17,
     "metadata": {},
     "output_type": "execute_result"
    }
   ],
   "source": [
    "# filter function: filter base on a boolean function, apply on each element of a sequence.\n",
    "list(filter(lambda x:x > 3, [1, 2, 3, 4, 5, 6]))"
   ]
  },
  {
   "cell_type": "code",
   "execution_count": 19,
   "metadata": {},
   "outputs": [
    {
     "name": "stdout",
     "output_type": "stream",
     "text": [
      "(2, 4)\n",
      "(2, 4)\n"
     ]
    }
   ],
   "source": [
    "# use '*' to imply all values of a sequence.\n",
    "t = (20, 8)\n",
    "print(divmod(*t))\n",
    "print(divmod(20, 8))"
   ]
  },
  {
   "cell_type": "code",
   "execution_count": 20,
   "metadata": {},
   "outputs": [
    {
     "name": "stdout",
     "output_type": "stream",
     "text": [
      "0 1 [2, 3, 4, 5, 6, 7, 8] 9\n"
     ]
    }
   ],
   "source": [
    "# another use of '*'\n",
    "a, b, *c, d = range(10)\n",
    "print(a, b, c, d)"
   ]
  },
  {
   "cell_type": "code",
   "execution_count": 34,
   "metadata": {},
   "outputs": [
    {
     "name": "stdout",
     "output_type": "stream",
     "text": [
      "card fields: ('ranks', 'suits')\n",
      "_asdict: {'ranks': 4, 'suits': 'diamond'}\n",
      "b_card: Card(ranks='9', suits='bich')\n"
     ]
    }
   ],
   "source": [
    "# namedtuple\n",
    "from collections import namedtuple\n",
    "Card = namedtuple('Card', ('ranks', 'suits'))\n",
    "a_card = Card(4, 'diamond')\n",
    "\n",
    "# list all fields\n",
    "print('card fields:', a_card._fields)\n",
    "\n",
    "# _asdict()\n",
    "print('_asdict:', dict(a_card._asdict()) )\n",
    "\n",
    "# _make() to initialize\n",
    "v = ('9', 'bich')\n",
    "b_card = Card._make(v)\n",
    "print('b_card:', b_card)"
   ]
  },
  {
   "cell_type": "markdown",
   "metadata": {},
   "source": [
    "### Slice"
   ]
  },
  {
   "cell_type": "code",
   "execution_count": 36,
   "metadata": {},
   "outputs": [
    {
     "name": "stdout",
     "output_type": "stream",
     "text": [
      "45\n"
     ]
    }
   ],
   "source": [
    "# slice object\n",
    "\n",
    "vec = '123456789'\n",
    "sli = slice(3, 5)\n",
    "print(vec[sli])"
   ]
  },
  {
   "cell_type": "code",
   "execution_count": 38,
   "metadata": {},
   "outputs": [
    {
     "data": {
      "text/plain": [
       "array([[0., 0., 0., 0.],\n",
       "       [0., 0., 0., 0.],\n",
       "       [0., 0., 0., 0.]])"
      ]
     },
     "execution_count": 38,
     "metadata": {},
     "output_type": "execute_result"
    }
   ],
   "source": [
    "import numpy as np\n",
    "\n",
    "# Ellipsis ...\n",
    "arr = np.zeros((3, 2, 3, 4))\n",
    "arr[1, 1, ...]"
   ]
  },
  {
   "cell_type": "markdown",
   "metadata": {},
   "source": [
    "### Operators"
   ]
  },
  {
   "cell_type": "code",
   "execution_count": 41,
   "metadata": {},
   "outputs": [
    {
     "name": "stdout",
     "output_type": "stream",
     "text": [
      "[1, 2, 3, 1, 2, 3, 1, 2, 3]\n",
      "[3 6 9]\n"
     ]
    }
   ],
   "source": [
    "# normal list processes on the whole list\n",
    "normal_seq = [1, 2, 3]\n",
    "print(normal_seq*3)\n",
    "\n",
    "# numpy array processes element-wise\n",
    "numpy_seq = np.array([1, 2, 3])\n",
    "print(numpy_seq*3)"
   ]
  },
  {
   "cell_type": "code",
   "execution_count": 45,
   "metadata": {},
   "outputs": [
    {
     "name": "stdout",
     "output_type": "stream",
     "text": [
      "[[1, 2], [1, 2], [1, 2]]\n"
     ]
    }
   ],
   "source": [
    "# list contains reference (not value)\n",
    "a = [[]]*3\n",
    "a[1] += [1, 2]\n",
    "print(a)"
   ]
  },
  {
   "cell_type": "code",
   "execution_count": 53,
   "metadata": {},
   "outputs": [
    {
     "name": "stdout",
     "output_type": "stream",
     "text": [
      "list original memory:           140241367603632\n",
      "list augmented addition memory  140241367603632\n",
      "tuple original memory:          140241353194304\n",
      "tuple augmented addition memory 140241354499760\n"
     ]
    }
   ],
   "source": [
    "# Augmented addition (and multiplication, subtraction, etc.) works in-place for mutable variables but not in-place for immutable ones.\n",
    "\n",
    "lis = [1, 2]\n",
    "print('list original memory:          ', id(lis))\n",
    "lis *= 2\n",
    "print('list augmented addition memory ', id(lis))\n",
    "\n",
    "tup = (1, 2)\n",
    "print('tuple original memory:         ', id(tup))\n",
    "tup *= 2\n",
    "print('tuple augmented addition memory', id(tup))"
   ]
  },
  {
   "cell_type": "markdown",
   "metadata": {},
   "source": [
    "### Sort"
   ]
  },
  {
   "cell_type": "code",
   "execution_count": 57,
   "metadata": {},
   "outputs": [
    {
     "name": "stdout",
     "output_type": "stream",
     "text": [
      "[1, 2, 4]\n",
      "None\n",
      "[1, 2, 4]\n"
     ]
    }
   ],
   "source": [
    "# sorted() returns a new list\n",
    "lis = [1, 4, 2]\n",
    "print(sorted(lis))\n",
    "\n",
    "# .sort() works in-place\n",
    "print(lis.sort())\n",
    "print(lis)"
   ]
  },
  {
   "cell_type": "markdown",
   "metadata": {},
   "source": [
    "### Bisect"
   ]
  },
  {
   "cell_type": "code",
   "execution_count": 71,
   "metadata": {},
   "outputs": [
    {
     "name": "stdout",
     "output_type": "stream",
     "text": [
      "arr: [1, 3, 5, 7, 9, 11, 13, 15, 17, 19]\n",
      "pos: 6\n"
     ]
    }
   ],
   "source": [
    "# bisect.bisect(haystack, needle) find the position of the needle if it is placed in the sorted haystack.\n",
    "\n",
    "import bisect\n",
    "\n",
    "arr = list(range(1, 20, 2))\n",
    "print('arr:', arr)\n",
    "\n",
    "pos = bisect.bisect(arr, 11)\n",
    "print('pos:', pos)"
   ]
  },
  {
   "cell_type": "code",
   "execution_count": 72,
   "metadata": {},
   "outputs": [
    {
     "data": {
      "text/plain": [
       "['F', 'A', 'C', 'C', 'B', 'A', 'A']"
      ]
     },
     "execution_count": 72,
     "metadata": {},
     "output_type": "execute_result"
    }
   ],
   "source": [
    "# an application of bisect\n",
    "def grade(score, breakpoints=[60, 70, 80, 90],\n",
    "          grades='FDCBA'):\n",
    "    i = bisect.bisect(breakpoints, score)\n",
    "    return grades[i]\n",
    "\n",
    "[grade(score) for score in [33, 99, 77, 70, 89, 90, 100]]"
   ]
  },
  {
   "cell_type": "code",
   "execution_count": 73,
   "metadata": {},
   "outputs": [
    {
     "name": "stdout",
     "output_type": "stream",
     "text": [
      "[1, 3, 4, 5, 7, 9, 11, 13, 15, 17, 19]\n"
     ]
    }
   ],
   "source": [
    "# bisect.insort() put the value into its place in a sorted array.\n",
    "bisect.insort(arr, 4)\n",
    "print(arr)"
   ]
  },
  {
   "cell_type": "markdown",
   "metadata": {},
   "source": [
    "### Array"
   ]
  },
  {
   "cell_type": "code",
   "execution_count": null,
   "metadata": {},
   "outputs": [],
   "source": [
    "# array is an alternative for list.\n",
    "# array store values of the same type (normally float)\n",
    "\n",
    "from array import array\n",
    "floats = array('d', range(1, 10**7))\n",
    "floats[0]"
   ]
  },
  {
   "cell_type": "code",
   "execution_count": 74,
   "metadata": {},
   "outputs": [],
   "source": [
    "# deque is thread-safe, thus, look is not needed in multi-thread application."
   ]
  },
  {
   "cell_type": "code",
   "execution_count": null,
   "metadata": {},
   "outputs": [],
   "source": [
    "# Python'sort uses Timsort, which is built from Insertion sort and Merge sort."
   ]
  }
 ],
 "metadata": {
  "kernelspec": {
   "display_name": "Python 3",
   "language": "python",
   "name": "python3"
  },
  "language_info": {
   "codemirror_mode": {
    "name": "ipython",
    "version": 3
   },
   "file_extension": ".py",
   "mimetype": "text/x-python",
   "name": "python",
   "nbconvert_exporter": "python",
   "pygments_lexer": "ipython3",
   "version": "3.7.4"
  }
 },
 "nbformat": 4,
 "nbformat_minor": 4
}
