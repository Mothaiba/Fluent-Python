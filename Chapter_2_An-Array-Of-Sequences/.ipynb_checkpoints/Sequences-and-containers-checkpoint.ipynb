{
 "cells": [
  {
   "cell_type": "markdown",
   "metadata": {},
   "source": [
    "## II. Data Structures"
   ]
  },
  {
   "cell_type": "markdown",
   "metadata": {},
   "source": [
    "### List, Tuple, Generator"
   ]
  },
  {
   "cell_type": "code",
   "execution_count": 10,
   "metadata": {},
   "outputs": [
    {
     "name": "stdout",
     "output_type": "stream",
     "text": [
      "li:  [1, 'a', (1, 1)]\n",
      "tup:  (1, 'a', (1, 1))\n"
     ]
    }
   ],
   "source": [
    "# list, tuple, deque are containers, which store reference to object, thus, they can contain different element-types.\n",
    "\n",
    "li = [1, 'a', (1, 1)]\n",
    "print('li: ', li)\n",
    "\n",
    "tup = (1, 'a', (1, 1))\n",
    "print('tup: ', tup)"
   ]
  },
  {
   "cell_type": "code",
   "execution_count": 3,
   "metadata": {},
   "outputs": [
    {
     "name": "stdout",
     "output_type": "stream",
     "text": [
      "[0, 1, 2, 3, 4, 5, 6, 7, 8, 9]\n"
     ]
    }
   ],
   "source": [
    "# list comprehensive\n",
    "arr = [x for x in range(10)]\n",
    "print(arr)"
   ]
  },
  {
   "cell_type": "code",
   "execution_count": 8,
   "metadata": {},
   "outputs": [
    {
     "name": "stdout",
     "output_type": "stream",
     "text": [
      "li:  [0, 1, 0, 1]\n",
      "st:  abc\n"
     ]
    }
   ],
   "source": [
    "def foo(inp):\n",
    "    inp += inp\n",
    "\n",
    "li = [0, 1]\n",
    "foo(li)\n",
    "print('li: ', li) # list is mutable\n",
    "\n",
    "st = 'abc'\n",
    "foo(st)\n",
    "print('st: ', st) # string is immutable"
   ]
  },
  {
   "cell_type": "code",
   "execution_count": 12,
   "metadata": {},
   "outputs": [
    {
     "name": "stdout",
     "output_type": "stream",
     "text": [
      "0\n",
      "1\n",
      "4\n",
      "9\n",
      "16\n",
      "25\n",
      "36\n",
      "49\n",
      "64\n",
      "81\n"
     ]
    }
   ],
   "source": [
    "# generator expression. This save memory by generating elements one-by-one.\n",
    "for v in (x*x for x in range(10)):\n",
    "    print(v)"
   ]
  },
  {
   "cell_type": "code",
   "execution_count": 14,
   "metadata": {},
   "outputs": [
    {
     "data": {
      "text/plain": [
       "[1, 4, 9, 16]"
      ]
     },
     "execution_count": 14,
     "metadata": {},
     "output_type": "execute_result"
    }
   ],
   "source": [
    "# map function: to apply a function on each element of a sequence.\n",
    "arr = [1, 2, 3, 4]\n",
    "list(map(lambda x: x*x, arr))"
   ]
  },
  {
   "cell_type": "code",
   "execution_count": 17,
   "metadata": {},
   "outputs": [
    {
     "data": {
      "text/plain": [
       "[4, 5, 6]"
      ]
     },
     "execution_count": 17,
     "metadata": {},
     "output_type": "execute_result"
    }
   ],
   "source": [
    "# filter function: filter base on a boolean function, apply on each element of a sequence.\n",
    "list(filter(lambda x:x > 3, [1, 2, 3, 4, 5, 6]))"
   ]
  },
  {
   "cell_type": "code",
   "execution_count": 19,
   "metadata": {},
   "outputs": [
    {
     "name": "stdout",
     "output_type": "stream",
     "text": [
      "(2, 4)\n",
      "(2, 4)\n"
     ]
    }
   ],
   "source": [
    "# use '*' to imply all values of a sequence.\n",
    "t = (20, 8)\n",
    "print(divmod(*t))\n",
    "print(divmod(20, 8))"
   ]
  },
  {
   "cell_type": "code",
   "execution_count": 20,
   "metadata": {},
   "outputs": [
    {
     "name": "stdout",
     "output_type": "stream",
     "text": [
      "0 1 [2, 3, 4, 5, 6, 7, 8] 9\n"
     ]
    }
   ],
   "source": [
    "# another use of '*'\n",
    "a, b, *c, d = range(10)\n",
    "print(a, b, c, d)"
   ]
  },
  {
   "cell_type": "code",
   "execution_count": 34,
   "metadata": {},
   "outputs": [
    {
     "name": "stdout",
     "output_type": "stream",
     "text": [
      "card fields: ('ranks', 'suits')\n",
      "_asdict: {'ranks': 4, 'suits': 'diamond'}\n",
      "b_card: Card(ranks='9', suits='bich')\n"
     ]
    }
   ],
   "source": [
    "# namedtuple\n",
    "from collections import namedtuple\n",
    "Card = namedtuple('Card', ('ranks', 'suits'))\n",
    "a_card = Card(4, 'diamond')\n",
    "\n",
    "# list all fields\n",
    "print('card fields:', a_card._fields)\n",
    "\n",
    "# _asdict()\n",
    "print('_asdict:', dict(a_card._asdict()) )\n",
    "\n",
    "# _make() to initialize\n",
    "v = ('9', 'bich')\n",
    "b_card = Card._make(v)\n",
    "print('b_card:', b_card)"
   ]
  },
  {
   "cell_type": "markdown",
   "metadata": {},
   "source": [
    "### Slice"
   ]
  },
  {
   "cell_type": "code",
   "execution_count": 36,
   "metadata": {},
   "outputs": [
    {
     "name": "stdout",
     "output_type": "stream",
     "text": [
      "45\n"
     ]
    }
   ],
   "source": [
    "# slice object\n",
    "\n",
    "vec = '123456789'\n",
    "sli = slice(3, 5)\n",
    "print(vec[sli])"
   ]
  },
  {
   "cell_type": "code",
   "execution_count": null,
   "metadata": {},
   "outputs": [],
   "source": []
  }
 ],
 "metadata": {
  "kernelspec": {
   "display_name": "Python 3",
   "language": "python",
   "name": "python3"
  },
  "language_info": {
   "codemirror_mode": {
    "name": "ipython",
    "version": 3
   },
   "file_extension": ".py",
   "mimetype": "text/x-python",
   "name": "python",
   "nbconvert_exporter": "python",
   "pygments_lexer": "ipython3",
   "version": "3.7.4"
  }
 },
 "nbformat": 4,
 "nbformat_minor": 4
}
