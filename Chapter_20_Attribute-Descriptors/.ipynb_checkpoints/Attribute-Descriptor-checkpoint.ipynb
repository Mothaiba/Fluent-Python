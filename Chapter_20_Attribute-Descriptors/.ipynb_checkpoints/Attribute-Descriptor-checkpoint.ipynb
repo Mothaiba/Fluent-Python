{
 "cells": [
  {
   "cell_type": "markdown",
   "metadata": {},
   "source": [
    "Classes that define any of the following methods are considered descriptor by the interpreter:\n",
    "- \\_\\_get__(self, instance, owner)\n",
    "- \\_\\_set__(self, instance, value)\n",
    "- \\_\\_delete__(self, instance)"
   ]
  },
  {
   "cell_type": "markdown",
   "metadata": {},
   "source": [
    "where:\n",
    "- self is the descriptor instance (e.g. for different items, the descriptor instance item.price is the same).\n",
    "- instance is the instance of the managed class (e.g. for the same item, item.price and item.quantity have the same instance)."
   ]
  },
  {
   "cell_type": "markdown",
   "metadata": {},
   "source": [
    "Normally, when implementing a descriptor, both \\_\\_set__ and \\_\\_get__ are implemented. It will be hard to track the flow when either of them is not implemented."
   ]
  },
  {
   "cell_type": "markdown",
   "metadata": {},
   "source": [
    "The below code illustrate self and instance in descriptors:"
   ]
  },
  {
   "cell_type": "code",
   "execution_count": 44,
   "metadata": {},
   "outputs": [],
   "source": [
    "class Quantity:\n",
    "    def __init__(self):\n",
    "        pass\n",
    "    def __get__(self, instance, owner):\n",
    "        return self.val\n",
    "    def __set__(self, instance, new_value):\n",
    "        print(id(self), id(instance))\n",
    "        if new_value > 0:\n",
    "            self.val = new_value\n",
    "        else:\n",
    "            raise AttributeError('This value must be positive')\n",
    "\n",
    "class Item:\n",
    "    price = Quantity()\n",
    "    quantity = Quantity()\n",
    "    \n",
    "    def __init__(self, price, quantity):\n",
    "        self.price = price\n",
    "        self.quantity = quantity        "
   ]
  },
  {
   "cell_type": "code",
   "execution_count": 45,
   "metadata": {},
   "outputs": [
    {
     "name": "stdout",
     "output_type": "stream",
     "text": [
      "140008552433808 140008552406672\n",
      "140008552434896 140008552406672\n",
      "apple: 10 2\n",
      "140008552433808 140008552404176\n",
      "140008552434896 140008552404176\n",
      "apple: 20 5\n"
     ]
    }
   ],
   "source": [
    "apple = Item(10, 2)\n",
    "print('apple:', apple.price, apple.quantity)\n",
    "orange = Item(20, 5)\n",
    "print('apple:', apple.price, apple.quantity)"
   ]
  },
  {
   "cell_type": "markdown",
   "metadata": {},
   "source": [
    "Below is the rightful way to code a descriptor:"
   ]
  },
  {
   "cell_type": "code",
   "execution_count": 54,
   "metadata": {},
   "outputs": [],
   "source": [
    "class Quantity:\n",
    "    __counter = 0\n",
    "    def __init__(self):\n",
    "        cls = self.__class__\n",
    "        self.my_counter = cls.__counter\n",
    "        cls.__counter += 1\n",
    "        self.my_identifier = '{}#{}'.format(cls.__name__, self.my_counter)\n",
    "    def __get__(self, instance, owner):\n",
    "        return getattr(instance, self.my_identifier)\n",
    "    def __set__(self, instance, new_value):\n",
    "        print(id(self), id(instance))\n",
    "        if new_value > 0:\n",
    "            setattr(instance, self.my_identifier, new_value)\n",
    "        else:\n",
    "            raise AttributeError('This value must be positive')\n",
    "\n",
    "class Item:\n",
    "    price = Quantity()\n",
    "    quantity = Quantity()\n",
    "    \n",
    "    def __init__(self, price, quantity):\n",
    "        self.price = price\n",
    "        self.quantity = quantity        "
   ]
  },
  {
   "cell_type": "code",
   "execution_count": 55,
   "metadata": {},
   "outputs": [
    {
     "name": "stdout",
     "output_type": "stream",
     "text": [
      "140008306135696 140008315846096\n",
      "140008306135312 140008315846096\n",
      "apple: 10 2\n",
      "140008306135696 140008553166800\n",
      "140008306135312 140008553166800\n",
      "apple: 10 2\n",
      "orange: 20 5\n"
     ]
    }
   ],
   "source": [
    "apple = Item(10, 2)\n",
    "print('apple:', apple.price, apple.quantity)\n",
    "orange = Item(20, 5)\n",
    "print('apple:', apple.price, apple.quantity)\n",
    "print('orange:', orange.price, orange.quantity)"
   ]
  },
  {
   "cell_type": "code",
   "execution_count": null,
   "metadata": {},
   "outputs": [],
   "source": []
  }
 ],
 "metadata": {
  "kernelspec": {
   "display_name": "Python 3",
   "language": "python",
   "name": "python3"
  },
  "language_info": {
   "codemirror_mode": {
    "name": "ipython",
    "version": 3
   },
   "file_extension": ".py",
   "mimetype": "text/x-python",
   "name": "python",
   "nbconvert_exporter": "python",
   "pygments_lexer": "ipython3",
   "version": "3.7.7"
  }
 },
 "nbformat": 4,
 "nbformat_minor": 4
}
