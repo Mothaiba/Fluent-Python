{
 "cells": [
  {
   "cell_type": "markdown",
   "metadata": {},
   "source": [
    "A simple decorator:"
   ]
  },
  {
   "cell_type": "code",
   "execution_count": 1,
   "metadata": {},
   "outputs": [],
   "source": [
    "def deco(func):\n",
    "    def decorate():\n",
    "        print('Before func')\n",
    "        output = func()\n",
    "        print('After func')\n",
    "        return output\n",
    "    return decorate\n",
    "\n",
    "@deco\n",
    "def foo():\n",
    "    print('foo')"
   ]
  },
  {
   "cell_type": "code",
   "execution_count": 2,
   "metadata": {},
   "outputs": [
    {
     "name": "stdout",
     "output_type": "stream",
     "text": [
      "Before func\n",
      "foo\n",
      "After func\n"
     ]
    }
   ],
   "source": [
    "foo()"
   ]
  },
  {
   "cell_type": "markdown",
   "metadata": {},
   "source": [
    "Note that:\n",
    "<br>\n",
    "<b>\n",
    "    @deco\n",
    "    <br>\n",
    "    def foo():...\n",
    "</b>\n",
    "<br>\n",
    "is equivalent to\n",
    "<br>\n",
    "<b>\n",
    "    foo = deco(foo)\n",
    "</b>"
   ]
  },
  {
   "cell_type": "markdown",
   "metadata": {},
   "source": [
    "The decoration is done right when the module is imported."
   ]
  },
  {
   "cell_type": "markdown",
   "metadata": {},
   "source": [
    "An useful usage of decorator is illustrated using the problem of Shopping and Promotion in the previous chapter.\n",
    "<br>\n",
    "Instead of the solution we have had, we can decorate each promotion function with a @promotion. Inside the decoration, we add the reference to the promo into a list.\n",
    "<br>\n",
    "(see promotions.py and shopping.py for more details.)"
   ]
  },
  {
   "cell_type": "markdown",
   "metadata": {},
   "source": [
    "### Variable scope rules"
   ]
  },
  {
   "cell_type": "markdown",
   "metadata": {},
   "source": [
    "When compiling a function, Python defines all the variable scopes first, before executing the code."
   ]
  },
  {
   "cell_type": "markdown",
   "metadata": {},
   "source": [
    "Order of evaluating the scope of a variable:\n",
    "1. If the variable is explicitly stated as global, nonlocal or local, it is.\n",
    "2. If the variable is assigned to an object, it is understood be to local.\n",
    "3. The variable scope is always defaulted as local, if not found in local, find in global scope."
   ]
  },
  {
   "cell_type": "code",
   "execution_count": 7,
   "metadata": {},
   "outputs": [
    {
     "name": "stdout",
     "output_type": "stream",
     "text": [
      "3\n"
     ]
    },
    {
     "ename": "UnboundLocalError",
     "evalue": "local variable 'b' referenced before assignment",
     "output_type": "error",
     "traceback": [
      "\u001b[0;31m---------------------------------------------------------------------------\u001b[0m",
      "\u001b[0;31mUnboundLocalError\u001b[0m                         Traceback (most recent call last)",
      "\u001b[0;32m<ipython-input-7-1fc75f6234ca>\u001b[0m in \u001b[0;36m<module>\u001b[0;34m\u001b[0m\n\u001b[1;32m      6\u001b[0m     \u001b[0mb\u001b[0m \u001b[0;34m=\u001b[0m \u001b[0;36m100\u001b[0m\u001b[0;34m\u001b[0m\u001b[0;34m\u001b[0m\u001b[0m\n\u001b[1;32m      7\u001b[0m \u001b[0;34m\u001b[0m\u001b[0m\n\u001b[0;32m----> 8\u001b[0;31m \u001b[0mf1\u001b[0m\u001b[0;34m(\u001b[0m\u001b[0;36m3\u001b[0m\u001b[0;34m)\u001b[0m\u001b[0;34m\u001b[0m\u001b[0;34m\u001b[0m\u001b[0m\n\u001b[0m",
      "\u001b[0;32m<ipython-input-7-1fc75f6234ca>\u001b[0m in \u001b[0;36mf1\u001b[0;34m(a)\u001b[0m\n\u001b[1;32m      3\u001b[0m \u001b[0;32mdef\u001b[0m \u001b[0mf1\u001b[0m\u001b[0;34m(\u001b[0m\u001b[0ma\u001b[0m\u001b[0;34m)\u001b[0m\u001b[0;34m:\u001b[0m\u001b[0;34m\u001b[0m\u001b[0;34m\u001b[0m\u001b[0m\n\u001b[1;32m      4\u001b[0m     \u001b[0mprint\u001b[0m\u001b[0;34m(\u001b[0m\u001b[0ma\u001b[0m\u001b[0;34m)\u001b[0m\u001b[0;34m\u001b[0m\u001b[0;34m\u001b[0m\u001b[0m\n\u001b[0;32m----> 5\u001b[0;31m     \u001b[0mprint\u001b[0m\u001b[0;34m(\u001b[0m\u001b[0mb\u001b[0m\u001b[0;34m)\u001b[0m\u001b[0;34m\u001b[0m\u001b[0;34m\u001b[0m\u001b[0m\n\u001b[0m\u001b[1;32m      6\u001b[0m     \u001b[0mb\u001b[0m \u001b[0;34m=\u001b[0m \u001b[0;36m100\u001b[0m\u001b[0;34m\u001b[0m\u001b[0;34m\u001b[0m\u001b[0m\n\u001b[1;32m      7\u001b[0m \u001b[0;34m\u001b[0m\u001b[0m\n",
      "\u001b[0;31mUnboundLocalError\u001b[0m: local variable 'b' referenced before assignment"
     ]
    }
   ],
   "source": [
    "b = 5\n",
    "\n",
    "def f1(a):\n",
    "    print(a)\n",
    "    print(b)\n",
    "    b = 100\n",
    "\n",
    "f1(3)"
   ]
  },
  {
   "cell_type": "code",
   "execution_count": 8,
   "metadata": {},
   "outputs": [
    {
     "name": "stdout",
     "output_type": "stream",
     "text": [
      "3\n",
      "5\n"
     ]
    }
   ],
   "source": [
    "def f1(a):\n",
    "    global b\n",
    "    print(a)\n",
    "    print(b)\n",
    "    b = 100\n",
    "\n",
    "f1(3)"
   ]
  },
  {
   "cell_type": "code",
   "execution_count": 9,
   "metadata": {},
   "outputs": [
    {
     "name": "stdout",
     "output_type": "stream",
     "text": [
      "100\n"
     ]
    }
   ],
   "source": [
    "print(b)"
   ]
  },
  {
   "cell_type": "markdown",
   "metadata": {},
   "source": [
    "### Closures"
   ]
  },
  {
   "cell_type": "markdown",
   "metadata": {},
   "source": [
    "A closure is a function that can access <b>non-global</b> variables that are defined outside of its body."
   ]
  },
  {
   "cell_type": "code",
   "execution_count": 10,
   "metadata": {},
   "outputs": [
    {
     "name": "stdout",
     "output_type": "stream",
     "text": [
      "10.0\n",
      "15.0\n",
      "20.0\n"
     ]
    }
   ],
   "source": [
    "def make_averager():\n",
    "    series = []\n",
    "    def averager(v):\n",
    "        series.append(v)\n",
    "        total = sum(series)\n",
    "        return total / len(series)\n",
    "    return averager\n",
    "\n",
    "avg = make_averager()\n",
    "print(avg(10))\n",
    "print(avg(20))\n",
    "print(avg(30))"
   ]
  },
  {
   "cell_type": "markdown",
   "metadata": {},
   "source": [
    "avg is a closure because: although it is basically an instance of averager, avg can access the non-global data defined outside averager's body (particularly, the list <b>series</b>)."
   ]
  },
  {
   "cell_type": "markdown",
   "metadata": {},
   "source": [
    "A more efficient way of implementing this closure is by using <b>nonlocal</b>"
   ]
  },
  {
   "cell_type": "code",
   "execution_count": 11,
   "metadata": {},
   "outputs": [
    {
     "name": "stdout",
     "output_type": "stream",
     "text": [
      "10.0\n",
      "15.0\n",
      "20.0\n"
     ]
    }
   ],
   "source": [
    "def make_averager():\n",
    "    total = 0\n",
    "    count = 0\n",
    "    def averager(v):\n",
    "        nonlocal total, count\n",
    "        total += v\n",
    "        count += 1\n",
    "        return total / count\n",
    "    return averager\n",
    "avg = make_averager()\n",
    "print(avg(10))\n",
    "print(avg(20))\n",
    "print(avg(30))"
   ]
  },
  {
   "cell_type": "markdown",
   "metadata": {},
   "source": [
    "### Decorator"
   ]
  },
  {
   "cell_type": "markdown",
   "metadata": {},
   "source": [
    "- arguments to the original function are accepted by *args and **kwargs\n",
    "- \\_\\_name\\_\\_ and \\_\\_doc\\_\\_ of the function-after-decorated are kept as original by @functools.wraps(func)"
   ]
  },
  {
   "cell_type": "code",
   "execution_count": 13,
   "metadata": {},
   "outputs": [],
   "source": [
    "import functools\n",
    "\n",
    "def deco(func):\n",
    "    @functools.wraps(func)\n",
    "    def decorate(*args, **kwargs):\n",
    "        print('Before')\n",
    "        output = func(*args, **kwargs)\n",
    "        print('After')\n",
    "        return output\n",
    "    return decorate\n",
    "\n",
    "@deco\n",
    "def print_it(v):\n",
    "    print(v)"
   ]
  },
  {
   "cell_type": "code",
   "execution_count": 14,
   "metadata": {},
   "outputs": [
    {
     "name": "stdout",
     "output_type": "stream",
     "text": [
      "Before\n",
      "10\n",
      "After\n"
     ]
    }
   ],
   "source": [
    "print_it(10)"
   ]
  },
  {
   "cell_type": "code",
   "execution_count": 15,
   "metadata": {},
   "outputs": [
    {
     "data": {
      "text/plain": [
       "'print_it'"
      ]
     },
     "execution_count": 15,
     "metadata": {},
     "output_type": "execute_result"
    }
   ],
   "source": [
    "print_it.__name__"
   ]
  },
  {
   "cell_type": "markdown",
   "metadata": {},
   "source": [
    "### Decorators in the Standard Library"
   ]
  },
  {
   "cell_type": "markdown",
   "metadata": {},
   "source": [
    "There are 3 built-in decorators:\n",
    "- staticmethod\n",
    "- classmethod\n",
    "- property"
   ]
  },
  {
   "cell_type": "markdown",
   "metadata": {},
   "source": [
    "From the functools, we have 3 (among others) decorators:\n",
    "- functools.wraps\n",
    "- functools.singledispatch\n",
    "- functools.lru_cache()"
   ]
  },
  {
   "cell_type": "markdown",
   "metadata": {},
   "source": [
    "#### functools.lru_cache()"
   ]
  },
  {
   "cell_type": "markdown",
   "metadata": {},
   "source": [
    "lru_cache stands for least recently used cache."
   ]
  },
  {
   "cell_type": "markdown",
   "metadata": {},
   "source": [
    "It caches the result of a function (with specific parameters) in the memory, so that for later invocation, the function need not being recomputed. "
   ]
  },
  {
   "cell_type": "markdown",
   "metadata": {},
   "source": [
    "When the cache is full, the results which are least recently used are discarded for saving new results."
   ]
  },
  {
   "cell_type": "code",
   "execution_count": 16,
   "metadata": {},
   "outputs": [
    {
     "data": {
      "text/plain": [
       "832040"
      ]
     },
     "execution_count": 16,
     "metadata": {},
     "output_type": "execute_result"
    }
   ],
   "source": [
    "import functools\n",
    "\n",
    "@functools.lru_cache()\n",
    "def fibonacci(n):\n",
    "    if n < 2:\n",
    "        return n\n",
    "    return fibonacci(n-1) + fibonacci(n-2)\n",
    "\n",
    "fibonacci(30)"
   ]
  },
  {
   "cell_type": "markdown",
   "metadata": {},
   "source": [
    "Because lru_cache use dict to store (the set of parameters is the key), all parameters have to be hashable."
   ]
  },
  {
   "cell_type": "markdown",
   "metadata": {},
   "source": [
    "lru_cache accepts 2 parameters, maxsize and typed."
   ]
  },
  {
   "cell_type": "code",
   "execution_count": null,
   "metadata": {},
   "outputs": [],
   "source": [
    "# default signature\n",
    "functools.lru_cache(maxsize=128, typed=False)"
   ]
  },
  {
   "cell_type": "markdown",
   "metadata": {},
   "source": [
    "maxsize: the maximum number of results in the cache. Should be a power of 2 for optimal performance.\n",
    "<br>\n",
    "types: whether to store the results of different types (int, float) separately."
   ]
  },
  {
   "cell_type": "markdown",
   "metadata": {},
   "source": [
    "#### functools.singledispatch"
   ]
  },
  {
   "cell_type": "markdown",
   "metadata": {},
   "source": [
    "single-dispatch has some similarity with overloading function."
   ]
  },
  {
   "cell_type": "markdown",
   "metadata": {},
   "source": [
    "This is used when a function need to behave differently for different types of the first argument (hence the name <b>single</b>dispatch, not <b>multiple</b>dispatch)."
   ]
  },
  {
   "cell_type": "markdown",
   "metadata": {},
   "source": [
    "The usage is described by the below code:\n",
    "1. decorate a base function with @functools.singledispatch\n",
    "2. register different functions for different types with decorator @original_function.register(\\<\\type>)."
   ]
  },
  {
   "cell_type": "code",
   "execution_count": 21,
   "metadata": {},
   "outputs": [],
   "source": [
    "from collections import abc\n",
    "import numbers\n",
    "\n",
    "@functools.singledispatch\n",
    "def foo(obj):\n",
    "    print('This is the default function for default types.')\n",
    "\n",
    "@foo.register(str)\n",
    "def _(s):\n",
    "    print('This is function for str')\n",
    "\n",
    "@foo.register(numbers.Integral)\n",
    "def _(n):\n",
    "    print('This is function for int')\n",
    "\n",
    "@foo.register(tuple)\n",
    "@foo.register(abc.MutableSequence)\n",
    "def _(seq):\n",
    "    print('This is function for sequence')"
   ]
  },
  {
   "cell_type": "code",
   "execution_count": 23,
   "metadata": {},
   "outputs": [
    {
     "name": "stdout",
     "output_type": "stream",
     "text": [
      "This is the default function for default types.\n",
      "This is function for str\n",
      "This is function for int\n",
      "This is function for sequence\n"
     ]
    }
   ],
   "source": [
    "foo({})\n",
    "foo('Tung')\n",
    "foo(100)\n",
    "foo([1, 2, 3])"
   ]
  },
  {
   "cell_type": "markdown",
   "metadata": {},
   "source": [
    "Note that:\n",
    "1. the register of types can be declared in different modules.\n",
    "2. Whenever possible, it is recommended to used the low-level types like numbers.Integral, abc.MutableSequence, etc. instead of int, list, etc. This way, we can capture more types that derive from the existing low-level types."
   ]
  },
  {
   "cell_type": "markdown",
   "metadata": {},
   "source": [
    "### Staked decorator"
   ]
  },
  {
   "cell_type": "code",
   "execution_count": null,
   "metadata": {},
   "outputs": [],
   "source": [
    "@d1\n",
    "@d2\n",
    "def f():...\n",
    "# is equivalent to\n",
    "f = d1(d2(f))"
   ]
  },
  {
   "cell_type": "markdown",
   "metadata": {},
   "source": [
    "### Parameterize decorators"
   ]
  },
  {
   "cell_type": "markdown",
   "metadata": {},
   "source": [
    "A parameterized decorator is actually a Decorator Factory (i.e. it returns a decorator)"
   ]
  },
  {
   "cell_type": "code",
   "execution_count": 24,
   "metadata": {},
   "outputs": [
    {
     "name": "stdout",
     "output_type": "stream",
     "text": [
      "Arg passed: 1000\n",
      "Before func\n",
      "x: 30\n",
      "After func\n"
     ]
    }
   ],
   "source": [
    "def deco_fac(para=None):\n",
    "    def deco(func):\n",
    "        def cover_func(*args, **kwargs):\n",
    "            print('Arg passed:', para)\n",
    "            print('Before func')\n",
    "            output = func(*args, **kwargs)\n",
    "            print('After func')\n",
    "            return output\n",
    "        return cover_func    \n",
    "    return deco\n",
    "\n",
    "@deco_fac(1000)\n",
    "def foo(x):\n",
    "    print('x:', x)\n",
    "\n",
    "foo(30)"
   ]
  },
  {
   "cell_type": "code",
   "execution_count": null,
   "metadata": {},
   "outputs": [],
   "source": []
  }
 ],
 "metadata": {
  "kernelspec": {
   "display_name": "Python 3",
   "language": "python",
   "name": "python3"
  },
  "language_info": {
   "codemirror_mode": {
    "name": "ipython",
    "version": 3
   },
   "file_extension": ".py",
   "mimetype": "text/x-python",
   "name": "python",
   "nbconvert_exporter": "python",
   "pygments_lexer": "ipython3",
   "version": "3.7.7"
  }
 },
 "nbformat": 4,
 "nbformat_minor": 4
}
