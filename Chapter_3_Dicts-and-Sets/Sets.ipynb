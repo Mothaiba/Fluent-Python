{
 "cells": [
  {
   "cell_type": "markdown",
   "metadata": {},
   "source": [
    "Set elements mush be hashable. \n",
    "<br>\n",
    "However, the set itself is not hashable.\n",
    "<br>\n",
    "Frozenset is."
   ]
  },
  {
   "cell_type": "markdown",
   "metadata": {},
   "source": [
    "### Set operators"
   ]
  },
  {
   "cell_type": "markdown",
   "metadata": {},
   "source": [
    "& (intersection)\n",
    "<br>\n",
    "| (union)\n",
    "<br>\n",
    "\\- (difference)\n",
    "<br>\n",
    "^ (xor)"
   ]
  },
  {
   "cell_type": "code",
   "execution_count": 3,
   "metadata": {},
   "outputs": [
    {
     "name": "stdout",
     "output_type": "stream",
     "text": [
      "s1 & s2: {1, 4}\n",
      "s1 | s2: {1, 2, 3, 4, 7}\n",
      "s1 - s2: {2, 3}\n",
      "s1 ^ s2: {2, 3, 7}\n"
     ]
    }
   ],
   "source": [
    "s1 = {1, 2, 3, 4}\n",
    "s2 = {1, 4, 7}\n",
    "print('s1 & s2:', s1 & s2)\n",
    "print('s1 | s2:', s1 | s2)\n",
    "print('s1 - s2:', s1 - s2)\n",
    "print('s1 ^ s2:', s1 ^ s2)"
   ]
  },
  {
   "cell_type": "markdown",
   "metadata": {},
   "source": [
    "### Set literals"
   ]
  },
  {
   "cell_type": "markdown",
   "metadata": {},
   "source": [
    "{...} (same as dict).\n",
    "<br>\n",
    "Yet, for an empty set, we use set() instead of {}."
   ]
  },
  {
   "cell_type": "code",
   "execution_count": 4,
   "metadata": {},
   "outputs": [
    {
     "name": "stdout",
     "output_type": "stream",
     "text": [
      "set()\n"
     ]
    }
   ],
   "source": [
    "s = set()\n",
    "print(s)"
   ]
  },
  {
   "cell_type": "markdown",
   "metadata": {},
   "source": [
    "### Set comparation"
   ]
  },
  {
   "cell_type": "markdown",
   "metadata": {},
   "source": [
    "Given 2 sets s and z.\n",
    "<br>\n",
    "s < z if True iff s is a subset of z."
   ]
  },
  {
   "cell_type": "code",
   "execution_count": 5,
   "metadata": {},
   "outputs": [
    {
     "name": "stdout",
     "output_type": "stream",
     "text": [
      "True\n"
     ]
    }
   ],
   "source": [
    "s = {1, 2}\n",
    "z = {1, 2, 5}\n",
    "print(s < z)"
   ]
  }
 ],
 "metadata": {
  "kernelspec": {
   "display_name": "Python 3",
   "language": "python",
   "name": "python3"
  },
  "language_info": {
   "codemirror_mode": {
    "name": "ipython",
    "version": 3
   },
   "file_extension": ".py",
   "mimetype": "text/x-python",
   "name": "python",
   "nbconvert_exporter": "python",
   "pygments_lexer": "ipython3",
   "version": "3.7.4"
  }
 },
 "nbformat": 4,
 "nbformat_minor": 4
}
