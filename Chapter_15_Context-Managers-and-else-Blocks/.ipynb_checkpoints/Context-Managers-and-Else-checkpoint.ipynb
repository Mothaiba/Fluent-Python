{
 "cells": [
  {
   "cell_type": "markdown",
   "metadata": {},
   "source": [
    "### Else Block"
   ]
  },
  {
   "cell_type": "markdown",
   "metadata": {},
   "source": [
    "Apart from __if__, else can also be used with __for__, __while__, and __try__.\n",
    "\n",
    "In these cases, similar to with __if__, the else block will be run if the condition being checked is false:\n",
    "- __for__: when there is no remaining element in the sequence.\n",
    "- __while__: when the condition is false.\n",
    "- __try__: when there is no exception.\n",
    "\n",
    "Note that the else block will NOT be excecuted if the main block is exited by __return__, __break__ or __exception caught__."
   ]
  },
  {
   "cell_type": "code",
   "execution_count": 1,
   "metadata": {},
   "outputs": [
    {
     "name": "stdout",
     "output_type": "stream",
     "text": [
      "0\n",
      "1\n",
      "2\n",
      "Done without break\n"
     ]
    }
   ],
   "source": [
    "for i in range(3):\n",
    "    print(i)\n",
    "else:\n",
    "    print('Done without break')"
   ]
  },
  {
   "cell_type": "code",
   "execution_count": 2,
   "metadata": {},
   "outputs": [
    {
     "name": "stdout",
     "output_type": "stream",
     "text": [
      "0\n",
      "1\n",
      "2\n"
     ]
    }
   ],
   "source": [
    "i = 0\n",
    "while i < 3:\n",
    "    print(i)\n",
    "    if i > 1:\n",
    "        break\n",
    "    i += 1\n",
    "else:\n",
    "    print('Done without break')"
   ]
  },
  {
   "cell_type": "markdown",
   "metadata": {},
   "source": [
    "### Context manager and with blocks"
   ]
  },
  {
   "cell_type": "markdown",
   "metadata": {},
   "source": [
    "The with statement is designed to simplify the try/finally pattern."
   ]
  },
  {
   "cell_type": "markdown",
   "metadata": {},
   "source": [
    "The with invokes the \\_\\_enter__() method of the called object.\n",
    "<br>\n",
    "When we exit the with, the \\_\\_exit__() method is then executed."
   ]
  },
  {
   "cell_type": "markdown",
   "metadata": {},
   "source": [
    "### contextlib"
   ]
  },
  {
   "cell_type": "markdown",
   "metadata": {},
   "source": [
    "This is a built-in library to support context managers."
   ]
  },
  {
   "cell_type": "markdown",
   "metadata": {},
   "source": [
    "@contextlib.contextmanager helps making a context manager without having to implement \\_\\_enter__ and \\_\\_exit__."
   ]
  },
  {
   "cell_type": "markdown",
   "metadata": {},
   "source": [
    "We only need to decorate a function with this decorator. Inside that function, there must be a single yield. The part before yield acts as \\_\\_enter__ while the part after acts as \\_\\_exit__."
   ]
  },
  {
   "cell_type": "markdown",
   "metadata": {},
   "source": [
    "Note that we should try yield and catch exception to make sure the exit-code after this yield be executed."
   ]
  },
  {
   "cell_type": "markdown",
   "metadata": {},
   "source": [
    "A good usecase of __with__ is with Lock in multi-threading."
   ]
  },
  {
   "cell_type": "code",
   "execution_count": null,
   "metadata": {},
   "outputs": [],
   "source": [
    "with some_lock:\n",
    "    # do something\n",
    "\n",
    "==\n",
    "\n",
    "some_lock.acquire()\n",
    "try:\n",
    "    # do something\n",
    "finally:\n",
    "    somelock.release()"
   ]
  }
 ],
 "metadata": {
  "kernelspec": {
   "display_name": "Python 3",
   "language": "python",
   "name": "python3"
  },
  "language_info": {
   "codemirror_mode": {
    "name": "ipython",
    "version": 3
   },
   "file_extension": ".py",
   "mimetype": "text/x-python",
   "name": "python",
   "nbconvert_exporter": "python",
   "pygments_lexer": "ipython3",
   "version": "3.7.7"
  }
 },
 "nbformat": 4,
 "nbformat_minor": 4
}
