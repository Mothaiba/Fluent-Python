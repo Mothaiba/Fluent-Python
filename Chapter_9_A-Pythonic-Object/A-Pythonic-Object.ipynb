{
 "cells": [
  {
   "cell_type": "markdown",
   "metadata": {},
   "source": [
    "### Object Representations"
   ]
  },
  {
   "cell_type": "markdown",
   "metadata": {},
   "source": [
    "- \\_\\_repr\\_\\_ returns a string representation that the developer want to see.\n",
    "- \\_\\_str\\_\\_ returns a string representation that the user want to see."
   ]
  },
  {
   "cell_type": "markdown",
   "metadata": {},
   "source": [
    "### Vector Class Redux"
   ]
  },
  {
   "cell_type": "markdown",
   "metadata": {},
   "source": [
    "\\_\\_iter\\_\\_ : object unpacking, slicable."
   ]
  },
  {
   "cell_type": "markdown",
   "metadata": {},
   "source": [
    "\\_\\_repr\\_\\_ : in this example, returns the actual constructor call of the object."
   ]
  },
  {
   "cell_type": "markdown",
   "metadata": {},
   "source": [
    "typecode is needed to binarize the object using \\_\\_bytes\\_\\_."
   ]
  },
  {
   "cell_type": "markdown",
   "metadata": {},
   "source": [
    "\\_\\_eq\\_\\_ : makes == viable, also help making object hashable. This implementation will accept that Vector2d(1, 3) == [1, 3]. This may be a feature or a bug."
   ]
  },
  {
   "cell_type": "markdown",
   "metadata": {},
   "source": [
    "a byte-representation of an object has its first character indicates the typecode of the bytes."
   ]
  },
  {
   "cell_type": "markdown",
   "metadata": {},
   "source": [
    "To make this class hashable,\n",
    "<br>\n",
    "we must implement \\_\\_hash\\_\\_ and \\_\\_eq\\_\\_.\n",
    "<br>\n",
    "and we should make the attributes immutable (because the hash value of an object is never supposed to change). We do this by using the @property decorator."
   ]
  },
  {
   "cell_type": "markdown",
   "metadata": {},
   "source": [
    "\\_\\_format\\_\\_ is for formatting the objects of the class."
   ]
  },
  {
   "cell_type": "code",
   "execution_count": 32,
   "metadata": {},
   "outputs": [],
   "source": [
    "import math\n",
    "from array import array\n",
    "\n",
    "class Vector2d:\n",
    "    \n",
    "    typecode = 'd'\n",
    "    \n",
    "    def __init__(self, x, y):\n",
    "        self.__x = float(x)\n",
    "        self.__y = float(y)\n",
    "    \n",
    "    @classmethod\n",
    "    def frombytes(cls, octets):\n",
    "        typecode = chr(octets[0])\n",
    "        memv = memoryview(octets[1:]).cast(typecode)\n",
    "        return cls(*memv)\n",
    "    \n",
    "    @property\n",
    "    def x(self):\n",
    "        return self.__x\n",
    "    \n",
    "    @property\n",
    "    def y(self):\n",
    "        return self.__y\n",
    "    \n",
    "    def __iter__(self):\n",
    "        return (v for v in (self.__x, self.__y))\n",
    "    \n",
    "    def __eq__(self, other):\n",
    "        return tuple(self) == tuple(other)\n",
    "    \n",
    "    def __repr__(self):\n",
    "        class_name = type(self).__name__\n",
    "        return '{}({!r}, {!r})'.format(class_name, *self)\n",
    "    \n",
    "    def __str__(self):\n",
    "        return str(tuple(self))\n",
    "    \n",
    "    def __abs__(self):\n",
    "        return math.hypot(self.x, self.y)\n",
    "    \n",
    "    def __bool__(self):\n",
    "        return bool(abs(self))\n",
    "    \n",
    "    def __bytes__(self):\n",
    "        return (bytes([ord(self.typecode)])\n",
    "                + bytes(array(self.typecode, self)))\n",
    "    \n",
    "    def __hash__(self):\n",
    "        return hash(self.x) ^ hash(self.y) # this is a simple way of hashing.\n",
    "    \n",
    "    def __format__(self, fmt_spec=''):\n",
    "        components = (format(c, fmt_spec) for c in self)\n",
    "        return '({},{})'.format(*components)"
   ]
  },
  {
   "cell_type": "code",
   "execution_count": 34,
   "metadata": {},
   "outputs": [
    {
     "name": "stdout",
     "output_type": "stream",
     "text": [
      "abs: 5.0\n",
      "v == [3, 4]: True\n",
      "x, y: 3.0 4.0\n",
      "v_2: (3.0, 4.0)\n",
      "v == v_2: True\n",
      "v: (3.0, 4.0)\n",
      "bool(v): True\n",
      "bytes(v): b'd\\x00\\x00\\x00\\x00\\x00\\x00\\x08@\\x00\\x00\\x00\\x00\\x00\\x00\\x10@'\n",
      "u: (3.0, 4.0)\n",
      "hash(v): 7\n",
      "formatted v: (3.000,4.000)\n"
     ]
    }
   ],
   "source": [
    "v = Vector2d(3, 4)\n",
    "print('abs:', abs(v))\n",
    "print('v == [3, 4]:', v == [3, 4])\n",
    "x, y = v\n",
    "print('x, y:', x, y)\n",
    "v_2 = eval('{!r}'.format(v))\n",
    "print('v_2:', v_2)\n",
    "print('v == v_2:', v == v_2)\n",
    "print('v:', str(v))\n",
    "print('bool(v):', bool(v))\n",
    "print('bytes(v):', bytes(v))\n",
    "u = Vector2d.frombytes(bytes(v))\n",
    "print('u:', u)\n",
    "print('hash(v):', hash(v))\n",
    "print('formatted v:', format(v, '.3f'))"
   ]
  },
  {
   "cell_type": "markdown",
   "metadata": {},
   "source": [
    "To support coercion, for example, to enable int(obj), float(obj), we may implement the \\_\\_int\\_\\_ and \\_\\_float\\_\\_ method."
   ]
  },
  {
   "cell_type": "markdown",
   "metadata": {},
   "source": [
    "### classmethod and staticmethod"
   ]
  },
  {
   "cell_type": "markdown",
   "metadata": {},
   "source": [
    "While a normal method of a class take the object (self) as the first argument, a classmethod takes the class (cls) as the first argument.\n",
    "<br>\n",
    "The most frequent use of classmethod is for alternative constructors as described above.\n",
    "<br><br>\n",
    "A staticmethod is just like a function defined elsewhere in the module. It has nothing to do with the class.\n",
    "<br><br>\n",
    "If a function is related to the class, it should be defined nearby (right before or right after) the class. Thus, staticmethod is not so useful.\n"
   ]
  },
  {
   "cell_type": "markdown",
   "metadata": {},
   "source": [
    "### Formatted displays"
   ]
  },
  {
   "cell_type": "markdown",
   "metadata": {},
   "source": [
    "The format() built-in function and the str.format() is the same."
   ]
  },
  {
   "cell_type": "code",
   "execution_count": 27,
   "metadata": {},
   "outputs": [
    {
     "name": "stdout",
     "output_type": "stream",
     "text": [
      "3.141592653589793\n",
      "3.1416\n",
      "3.142\n"
     ]
    }
   ],
   "source": [
    "x = math.pi\n",
    "print(x)\n",
    "print(format(x, '.4f'))\n",
    "print('{p:.3f}'.format(p=x))"
   ]
  },
  {
   "cell_type": "markdown",
   "metadata": {},
   "source": [
    "Each data-type may have its own presentation codes for formatting."
   ]
  },
  {
   "cell_type": "code",
   "execution_count": 28,
   "metadata": {},
   "outputs": [
    {
     "data": {
      "text/plain": [
       "'1010'"
      ]
     },
     "execution_count": 28,
     "metadata": {},
     "output_type": "execute_result"
    }
   ],
   "source": [
    "format(10, 'b')"
   ]
  },
  {
   "cell_type": "code",
   "execution_count": 30,
   "metadata": {},
   "outputs": [
    {
     "data": {
      "text/plain": [
       "'66.7%'"
      ]
     },
     "execution_count": 30,
     "metadata": {},
     "output_type": "execute_result"
    }
   ],
   "source": [
    "'{:.1%}'.format(2/3)"
   ]
  },
  {
   "cell_type": "code",
   "execution_count": null,
   "metadata": {},
   "outputs": [],
   "source": []
  }
 ],
 "metadata": {
  "kernelspec": {
   "display_name": "Python 3",
   "language": "python",
   "name": "python3"
  },
  "language_info": {
   "codemirror_mode": {
    "name": "ipython",
    "version": 3
   },
   "file_extension": ".py",
   "mimetype": "text/x-python",
   "name": "python",
   "nbconvert_exporter": "python",
   "pygments_lexer": "ipython3",
   "version": "3.7.7"
  }
 },
 "nbformat": 4,
 "nbformat_minor": 4
}
