{
 "cells": [
  {
   "cell_type": "code",
   "execution_count": null,
   "metadata": {},
   "outputs": [],
   "source": []
  },
  {
   "cell_type": "markdown",
   "metadata": {},
   "source": [
    "### Define Classes"
   ]
  },
  {
   "cell_type": "code",
   "execution_count": 13,
   "metadata": {},
   "outputs": [],
   "source": [
    "class Vector:\n",
    "    \n",
    "    def __init__(self, xy):\n",
    "        self._x, self._y = xy\n",
    "    \n",
    "    def __repr__(self):\n",
    "        return 'A vector of ({}, {})'.format(self._x, self._y)\n",
    "    \n",
    "    def __mul__(self, mul):\n",
    "        return Vector((self._x*mul, self._y*mul))\n",
    "    \n",
    "    def __rmul__(self, mul):\n",
    "        return Vector((self._x*mul, self._y*mul))\n",
    "    \n",
    "    def __add__(self, vec2):\n",
    "        new_x = self._x + vec2.x\n",
    "        new_y = self._y + vec2.y\n",
    "        return Vector((new_x, new_y))\n",
    "    \n",
    "    def __abs__(self):\n",
    "        return pow(self._x**2 + self._y**2, 0.5)\n",
    "    \n",
    "    @property\n",
    "    def x(self):\n",
    "        return self._x\n",
    "    \n",
    "    @property\n",
    "    def y(self):\n",
    "        return self._y"
   ]
  },
  {
   "cell_type": "markdown",
   "metadata": {},
   "source": [
    "### Call"
   ]
  },
  {
   "cell_type": "code",
   "execution_count": 14,
   "metadata": {},
   "outputs": [
    {
     "name": "stdout",
     "output_type": "stream",
     "text": [
      "Vector: A vector of (3, 4)\n",
      "A vector of (15, 20)\n",
      "vec + another_vec: A vector of (12, 3)\n",
      "length of vec: 5.0\n",
      "length of 2*vec: 10.0\n"
     ]
    }
   ],
   "source": [
    "vec = Vector((3, 4))\n",
    "another_vec = Vector((9, -1))\n",
    "print('Vector:', vec)\n",
    "print(vec*5)\n",
    "print('vec + another_vec:', vec + another_vec)\n",
    "print('length of vec:', abs(vec))\n",
    "print('length of 2*vec:', abs(2*vec))"
   ]
  }
 ],
 "metadata": {
  "kernelspec": {
   "display_name": "Python 3",
   "language": "python",
   "name": "python3"
  },
  "language_info": {
   "codemirror_mode": {
    "name": "ipython",
    "version": 3
   },
   "file_extension": ".py",
   "mimetype": "text/x-python",
   "name": "python",
   "nbconvert_exporter": "python",
   "pygments_lexer": "ipython3",
   "version": "3.7.4"
  }
 },
 "nbformat": 4,
 "nbformat_minor": 4
}
