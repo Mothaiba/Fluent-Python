{
 "cells": [
  {
   "cell_type": "markdown",
   "metadata": {},
   "source": [
    "### Import"
   ]
  },
  {
   "cell_type": "code",
   "execution_count": 2,
   "metadata": {},
   "outputs": [],
   "source": [
    "import collections"
   ]
  },
  {
   "cell_type": "markdown",
   "metadata": {},
   "source": [
    "### Define Classes"
   ]
  },
  {
   "cell_type": "code",
   "execution_count": 33,
   "metadata": {},
   "outputs": [],
   "source": [
    "Card = collections.namedtuple('card', ['ranks', 'suits'])\n",
    "\n",
    "class Deck:\n",
    "    \n",
    "    def __init__(self):\n",
    "        # _ at the beginning conventionally means private attributes\n",
    "        self._all_ranks = list(range(2, 11)) + 'J Q K A'.split()\n",
    "        self._all_suits = 'bich tep ro co'.split()\n",
    "        self._cards = [Card(rank, suit) for rank in self._all_ranks \n",
    "                                        for suit in self._all_suits]\n",
    "    \n",
    "    def __getitem__(self, key):\n",
    "        return self._cards[key]\n",
    "    \n",
    "    def __len__(self):\n",
    "        return len(self._cards)\n",
    "    \n",
    "    def __repr__(self):\n",
    "        return 'a deck with {len_rank} ranks and {len_suit} suits'.format(\n",
    "            len_rank=len(self._all_ranks), \n",
    "            len_suit=len(self._all_suits))\n",
    "    \n",
    "    @property\n",
    "    def cards(self):\n",
    "        return self._cards"
   ]
  },
  {
   "cell_type": "markdown",
   "metadata": {},
   "source": [
    "### Call"
   ]
  },
  {
   "cell_type": "code",
   "execution_count": 34,
   "metadata": {},
   "outputs": [
    {
     "name": "stdout",
     "output_type": "stream",
     "text": [
      "The deck:  a deck with 13 ranks and 4 suits\n",
      "The third card: card(ranks=2, suits='co')\n",
      "Number of cards: 52\n",
      "There cards are: [card(ranks=2, suits='bich'), card(ranks=2, suits='tep'), card(ranks=2, suits='ro'), card(ranks=2, suits='co'), card(ranks=3, suits='bich'), card(ranks=3, suits='tep'), card(ranks=3, suits='ro'), card(ranks=3, suits='co'), card(ranks=4, suits='bich'), card(ranks=4, suits='tep'), card(ranks=4, suits='ro'), card(ranks=4, suits='co'), card(ranks=5, suits='bich'), card(ranks=5, suits='tep'), card(ranks=5, suits='ro'), card(ranks=5, suits='co'), card(ranks=6, suits='bich'), card(ranks=6, suits='tep'), card(ranks=6, suits='ro'), card(ranks=6, suits='co'), card(ranks=7, suits='bich'), card(ranks=7, suits='tep'), card(ranks=7, suits='ro'), card(ranks=7, suits='co'), card(ranks=8, suits='bich'), card(ranks=8, suits='tep'), card(ranks=8, suits='ro'), card(ranks=8, suits='co'), card(ranks=9, suits='bich'), card(ranks=9, suits='tep'), card(ranks=9, suits='ro'), card(ranks=9, suits='co'), card(ranks=10, suits='bich'), card(ranks=10, suits='tep'), card(ranks=10, suits='ro'), card(ranks=10, suits='co'), card(ranks='J', suits='bich'), card(ranks='J', suits='tep'), card(ranks='J', suits='ro'), card(ranks='J', suits='co'), card(ranks='Q', suits='bich'), card(ranks='Q', suits='tep'), card(ranks='Q', suits='ro'), card(ranks='Q', suits='co'), card(ranks='K', suits='bich'), card(ranks='K', suits='tep'), card(ranks='K', suits='ro'), card(ranks='K', suits='co'), card(ranks='A', suits='bich'), card(ranks='A', suits='tep'), card(ranks='A', suits='ro'), card(ranks='A', suits='co')]\n"
     ]
    }
   ],
   "source": [
    "deck = Deck()\n",
    "print('The deck: ', deck)\n",
    "print('The third card: {}'.format(deck[3]))\n",
    "print('Number of cards:', len(deck))\n",
    "print('There cards are:', deck.cards)"
   ]
  }
 ],
 "metadata": {
  "kernelspec": {
   "display_name": "Python 3",
   "language": "python",
   "name": "python3"
  },
  "language_info": {
   "codemirror_mode": {
    "name": "ipython",
    "version": 3
   },
   "file_extension": ".py",
   "mimetype": "text/x-python",
   "name": "python",
   "nbconvert_exporter": "python",
   "pygments_lexer": "ipython3",
   "version": "3.7.4"
  }
 },
 "nbformat": 4,
 "nbformat_minor": 4
}
