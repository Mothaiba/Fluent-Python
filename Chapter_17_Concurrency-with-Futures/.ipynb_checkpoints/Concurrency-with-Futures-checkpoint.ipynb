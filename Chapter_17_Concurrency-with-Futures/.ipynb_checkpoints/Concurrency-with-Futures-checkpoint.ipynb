{
 "cells": [
  {
   "cell_type": "markdown",
   "metadata": {},
   "source": [
    "One situation when concurrency has a big benefit is when we deal with network IO, which often has much latency time."
   ]
  },
  {
   "cell_type": "markdown",
   "metadata": {},
   "source": [
    "The concurrent.futures library supports ThreadPoolExecutor and ProcessPoolExecutor classes. They help with multi-thread and multi-process programming."
   ]
  },
  {
   "cell_type": "code",
   "execution_count": 3,
   "metadata": {},
   "outputs": [
    {
     "name": "stdout",
     "output_type": "stream",
     "text": [
      "startingstarting 4\n",
      " 5\n",
      "end 4\n",
      "starting 3\n",
      "end 5\n",
      "starting 2\n",
      "end 2\n",
      "starting 1\n",
      "end 3\n",
      "end 1\n"
     ]
    }
   ],
   "source": [
    "import time\n",
    "from concurrent import futures\n",
    "\n",
    "def foo(inp):\n",
    "    print('starting', inp)\n",
    "    time.sleep(inp)\n",
    "    print('end', inp)\n",
    "    return inp * 10\n",
    "\n",
    "with futures.ThreadPoolExecutor(2) as executor:\n",
    "    results = executor.map(foo, range(5, 0, -1))\n"
   ]
  },
  {
   "cell_type": "code",
   "execution_count": 6,
   "metadata": {},
   "outputs": [
    {
     "data": {
      "text/plain": [
       "[50, 40, 30, 20, 10]"
      ]
     },
     "execution_count": 6,
     "metadata": {},
     "output_type": "execute_result"
    }
   ],
   "source": [
    "list(results)"
   ]
  },
  {
   "cell_type": "markdown",
   "metadata": {},
   "source": [
    "A future means an indicator of a piece of code that is scheduled to run in the future.\n",
    "<br>\n",
    "When the concurrency framework schedules a task in the queue, it returns a future.\n",
    "<br>\n",
    "Future ~ Giấy hẹn nhận kết quả."
   ]
  },
  {
   "cell_type": "markdown",
   "metadata": {},
   "source": [
    "Instead of using executor.map function as above, we can use executor.submit(func, input) and futures.as_completed(futures)."
   ]
  },
  {
   "cell_type": "markdown",
   "metadata": {},
   "source": [
    "### Blocking I/O and GIL"
   ]
  },
  {
   "cell_type": "markdown",
   "metadata": {},
   "source": [
    "GIL (Global Interpreter Lock) prevents more than 1 thread from running simultanously.\n",
    "<br>\n",
    "(This is the problem of CPython interpreter only. Jython and IronPython are not litmited this way. Pypy - the fastest one also has GIL.)"
   ]
  },
  {
   "cell_type": "markdown",
   "metadata": {},
   "source": [
    "However, all standard libraries that perform blocking I/O release GIL when waiting for the result.\n",
    "<br>\n",
    "=> Another thread can run when a thread is waiting for I/O."
   ]
  },
  {
   "cell_type": "markdown",
   "metadata": {},
   "source": [
    "### More on concurrent.futures and executor.map"
   ]
  },
  {
   "cell_type": "markdown",
   "metadata": {},
   "source": [
    "Using executor.map() is:\n",
    "- Easier, which is suitable for simple tasks.\n",
    "- The results will be returned in the order of their inputs (this feature may be either good or bad)."
   ]
  },
  {
   "cell_type": "markdown",
   "metadata": {},
   "source": [
    "Using executor.submit() and futures.as_completed() is more versatile:\n",
    "- Different functions can be executed.\n",
    "- Faster call will get the result first (i.e. results not in order).\n",
    "- futures.as_completed() can process different types of future (e.g. threads and processes mixed)."
   ]
  },
  {
   "cell_type": "code",
   "execution_count": 8,
   "metadata": {},
   "outputs": [
    {
     "name": "stdout",
     "output_type": "stream",
     "text": [
      "starting 4\n",
      "starting 5\n",
      "starting 3\n",
      "starting 2\n",
      "end 2\n",
      "starting 1\n",
      "end 3\n",
      "end 1\n",
      "end 4\n",
      "end 5\n"
     ]
    }
   ],
   "source": [
    "waiting_jobs = []\n",
    "\n",
    "with futures.ProcessPoolExecutor() as executor:\n",
    "    for inp in range(5, 0, -1):\n",
    "        future = executor.submit(foo, inp)\n",
    "        waiting_jobs.append(future)\n",
    "\n",
    "results = []\n",
    "for result in futures.as_completed(waiting_jobs):\n",
    "    results.append(result)"
   ]
  },
  {
   "cell_type": "code",
   "execution_count": 14,
   "metadata": {},
   "outputs": [
    {
     "data": {
      "text/plain": [
       "[20, 50, 30, 10, 40]"
      ]
     },
     "execution_count": 14,
     "metadata": {},
     "output_type": "execute_result"
    }
   ],
   "source": [
    "[each.result() for each in results]"
   ]
  },
  {
   "cell_type": "code",
   "execution_count": null,
   "metadata": {},
   "outputs": [],
   "source": []
  }
 ],
 "metadata": {
  "kernelspec": {
   "display_name": "Python 3",
   "language": "python",
   "name": "python3"
  },
  "language_info": {
   "codemirror_mode": {
    "name": "ipython",
    "version": 3
   },
   "file_extension": ".py",
   "mimetype": "text/x-python",
   "name": "python",
   "nbconvert_exporter": "python",
   "pygments_lexer": "ipython3",
   "version": "3.7.7"
  }
 },
 "nbformat": 4,
 "nbformat_minor": 4
}
