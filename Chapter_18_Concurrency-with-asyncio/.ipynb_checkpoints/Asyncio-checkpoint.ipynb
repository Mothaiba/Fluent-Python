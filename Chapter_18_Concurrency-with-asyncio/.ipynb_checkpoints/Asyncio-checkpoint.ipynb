{
 "cells": [
  {
   "cell_type": "markdown",
   "metadata": {},
   "source": [
    "### Thread vs coroutine"
   ]
  },
  {
   "cell_type": "markdown",
   "metadata": {},
   "source": [
    "By calling thread_obj.join(), we will wait for the thread_obj to terminate before continuing execute the next code."
   ]
  },
  {
   "cell_type": "markdown",
   "metadata": {},
   "source": [
    "By default, there is no way to explicitly tell the thread to stop. We have to setup the stop-condition inside the thread itself."
   ]
  },
  {
   "cell_type": "markdown",
   "metadata": {},
   "source": [
    "asyncio uses coroutines (i.e. await). Coroutines are asynchronous by default."
   ]
  },
  {
   "cell_type": "markdown",
   "metadata": {},
   "source": [
    "With coroutines, when a function wants to give up control, it may yield, yield from or await. The control is then given back to the scheduler.\n",
    "<br>\n",
    "The function that call the coroutine will continue executing the next lines of code."
   ]
  },
  {
   "cell_type": "markdown",
   "metadata": {},
   "source": [
    "Code with yield from (await) is often hard to read.\n",
    "<br>\n",
    "Guido suggests that we can just ignore this term when reading. The same code would be executed, except that it would be blocking. (With await, it is not blocking.)"
   ]
  },
  {
   "cell_type": "code",
   "execution_count": 16,
   "metadata": {},
   "outputs": [],
   "source": [
    "import asyncio\n",
    "import time\n",
    "import random"
   ]
  },
  {
   "cell_type": "code",
   "execution_count": 24,
   "metadata": {},
   "outputs": [
    {
     "name": "stdout",
     "output_type": "stream",
     "text": [
      "in action_multi\n",
      "input 1\n",
      "return 10\n",
      "input 2\n",
      "return 20\n",
      "input 3\n",
      "return 30\n",
      "input 4\n",
      "return 40\n",
      "result: [10, 20, 30, 40]\n"
     ]
    }
   ],
   "source": [
    "def action_single(inp : int) -> str:\n",
    "    print('input {}'.format(inp))\n",
    "    time.sleep(inp)\n",
    "    print('return {}'.format(inp*10))\n",
    "    return inp*10\n",
    "\n",
    "def action_multi(inps : list) -> list:\n",
    "    print('in action_multi')\n",
    "    \n",
    "    result = [action_single(inp) for inp in inps]\n",
    "    print('result: {}'.format(result))\n",
    "    \n",
    "    return result\n",
    "\n",
    "if __name__ == '__main__':\n",
    "    inps = range(1, 5)\n",
    "    action_multi(inps)"
   ]
  },
  {
   "cell_type": "code",
   "execution_count": 23,
   "metadata": {},
   "outputs": [
    {
     "name": "stdout",
     "output_type": "stream",
     "text": [
      "in action_multi\n",
      "input 1\n",
      "input 2\n",
      "input 3\n",
      "input 4\n",
      "return 10\n",
      "return 20\n",
      "return 30\n",
      "return 40\n",
      "result: [10, 20, 30, 40]\n"
     ]
    }
   ],
   "source": [
    "async def action_single(inp : int) -> str:\n",
    "    print('input {}'.format(inp))\n",
    "    await asyncio.sleep(inp)\n",
    "    print('return {}'.format(inp*10))\n",
    "    return inp*10\n",
    "\n",
    "async def action_multi(inps : list) -> list:\n",
    "    print('in action_multi')\n",
    "    \n",
    "    result = await asyncio.gather(\n",
    "        *[action_single(inp) for inp in inps]\n",
    "    )\n",
    "    print('result: {}'.format(result))\n",
    "    \n",
    "    return result\n",
    "\n",
    "if __name__ == '__main__':\n",
    "    inps = range(1, 5)\n",
    "    await action_multi(inps) # outside Jupyter: asyncio.run(action_multi(inps))"
   ]
  },
  {
   "cell_type": "code",
   "execution_count": null,
   "metadata": {},
   "outputs": [],
   "source": []
  }
 ],
 "metadata": {
  "kernelspec": {
   "display_name": "Python 3",
   "language": "python",
   "name": "python3"
  },
  "language_info": {
   "codemirror_mode": {
    "name": "ipython",
    "version": 3
   },
   "file_extension": ".py",
   "mimetype": "text/x-python",
   "name": "python",
   "nbconvert_exporter": "python",
   "pygments_lexer": "ipython3",
   "version": "3.7.7"
  }
 },
 "nbformat": 4,
 "nbformat_minor": 4
}
